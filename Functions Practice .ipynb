{
 "cells": [
  {
   "cell_type": "code",
   "execution_count": 3,
   "metadata": {},
   "outputs": [
    {
     "name": "stdout",
     "output_type": "stream",
     "text": [
      "6\n"
     ]
    }
   ],
   "source": [
    "#1. Write a Python function to find the Max of three numbers.\n",
    "\n",
    "def maxNum(listNum):\n",
    "    print(max(listNum))\n",
    "    \n",
    "maxNum([1,2,3,5,6])"
   ]
  },
  {
   "cell_type": "code",
   "execution_count": 5,
   "metadata": {},
   "outputs": [
    {
     "name": "stdout",
     "output_type": "stream",
     "text": [
      "20\n"
     ]
    }
   ],
   "source": [
    "# 2. Write a Python function to sum all the numbers in a list.\n",
    "# Sample List : (8, 2, 3, 0, 7)\n",
    "# Expected Output : 20\n",
    "\n",
    "def sumNum(listNum):\n",
    "    print(sum(listNum))\n",
    "    \n",
    "sumNum([8, 2, 3, 0, 7])\n",
    "        "
   ]
  },
  {
   "cell_type": "code",
   "execution_count": 6,
   "metadata": {},
   "outputs": [
    {
     "data": {
      "text/plain": [
       "-336"
      ]
     },
     "execution_count": 6,
     "metadata": {},
     "output_type": "execute_result"
    }
   ],
   "source": [
    "# 3. Write a Python function to multiply all the numbers in a list.\n",
    "# Sample List : (8, 2, 3, -1, 7)\n",
    "# Expected Output : -336 \n",
    "\n",
    "def mulNum(listNum): \n",
    "    p = 1\n",
    "    for i in listNum:\n",
    "        p *= i\n",
    "    return p\n",
    "\n",
    "mulNum([8, 2, 3, -1, 7])\n",
    "    \n",
    "        "
   ]
  },
  {
   "cell_type": "code",
   "execution_count": 8,
   "metadata": {},
   "outputs": [
    {
     "data": {
      "text/plain": [
       "'dcba4321'"
      ]
     },
     "execution_count": 8,
     "metadata": {},
     "output_type": "execute_result"
    }
   ],
   "source": [
    "# 4. Write a Python program to reverse a string. \n",
    "# Sample String : \"1234abcd\"\n",
    "# Expected Output : \"dcba4321\"\n",
    "\n",
    "def revStr(stn):\n",
    "    return stn[::-1]\n",
    "\n",
    "revStr(\"1234abcd\")\n",
    "    \n",
    " "
   ]
  },
  {
   "cell_type": "code",
   "execution_count": 9,
   "metadata": {
    "collapsed": true
   },
   "outputs": [],
   "source": [
    "#5. Write a Python function to calculate the factorial of a number (a non-negative integer). \n",
    "# The function accepts the number as an argument.\n",
    "\n"
   ]
  },
  {
   "cell_type": "code",
   "execution_count": null,
   "metadata": {
    "collapsed": true
   },
   "outputs": [],
   "source": [
    "#6.Write a Python function to check whether a number is in a given range. \n",
    "\n",
    "def gRan(a,b,c):\n",
    "    if a > b and a < c:\n",
    "        return True\n",
    "    else:\n",
    "        return False\n",
    "    \n",
    "g\n"
   ]
  }
 ],
 "metadata": {
  "kernelspec": {
   "display_name": "Python 3",
   "language": "python",
   "name": "python3"
  },
  "language_info": {
   "codemirror_mode": {
    "name": "ipython",
    "version": 3
   },
   "file_extension": ".py",
   "mimetype": "text/x-python",
   "name": "python",
   "nbconvert_exporter": "python",
   "pygments_lexer": "ipython3",
   "version": "3.6.1"
  }
 },
 "nbformat": 4,
 "nbformat_minor": 2
}
